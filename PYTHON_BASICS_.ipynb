{
  "nbformat": 4,
  "nbformat_minor": 0,
  "metadata": {
    "colab": {
      "provenance": []
    },
    "kernelspec": {
      "name": "python3",
      "display_name": "Python 3"
    },
    "language_info": {
      "name": "python"
    }
  },
  "cells": [
    {
      "cell_type": "markdown",
      "source": [],
      "metadata": {
        "id": "UXH2FolxKBvW"
      }
    },
    {
      "cell_type": "markdown",
      "source": [
        "Q1 - WHAT IS PYTHON?AND WHY IT IS SO POPULAR?"
      ],
      "metadata": {
        "id": "rnYch8HZKRup"
      }
    },
    {
      "cell_type": "markdown",
      "source": [
        "ANS 1 - Python is an high level,interpreted,general-purpose programming langauage known for its readability and simplicity.It was developed by Guido van Rossum and was first released in 1991,its name is a nod to british comedy group monty python.\n",
        "\n",
        "Python is so popular because of its features like\n",
        "\n",
        "1.  Versatility and wide range of applications\n",
        "\n",
        "2.   Extensive libraries and frameworks\n",
        "\n",
        "3.   open sporce nature\n",
        "\n",
        "4.   integration capabilities\n",
        "\n",
        "\n",
        "\n"
      ],
      "metadata": {
        "id": "Vxzb1RJmKclb"
      }
    },
    {
      "cell_type": "markdown",
      "source": [
        "Q2- WHAT IS INTERPRETER IN PYTHON?"
      ],
      "metadata": {
        "id": "mPRIUo3AMgE0"
      }
    },
    {
      "cell_type": "markdown",
      "source": [
        "ANSWER 2 - An interpreter is a computer program that execute the code directly ,translating it line by line into machine language at runtime.Unlike compilers,which translate the entire code at once,interpreter process code in real-time , enabling debuggingand immediate execution"
      ],
      "metadata": {
        "id": "iHF6scsvO-9C"
      }
    },
    {
      "cell_type": "markdown",
      "source": [
        "Q3-WHAT ARE PRE-DEFINED KEYWORDS IN PYTHON?"
      ],
      "metadata": {
        "id": "zN8QqackQCvV"
      }
    },
    {
      "cell_type": "markdown",
      "source": [
        "keywords are predefined, reserved words that have special meanings and cannot be used as identifiers (like variable names, function names, or class names). These keywords are essential for the syntax and structure of Python programs."
      ],
      "metadata": {
        "id": "xtXNMoU9QdMW"
      }
    },
    {
      "cell_type": "markdown",
      "source": [
        "Q4- CAN KEY-WORDS BE USED AS VARIABLE NAMES?"
      ],
      "metadata": {
        "id": "j1hF_GNiQmR0"
      }
    },
    {
      "cell_type": "markdown",
      "source": [
        "ANSWER 4 -Keywords are predefined, reserved words used in Python programming that have special meanings to the compiler. We cannot use a keyword as a variable name, function name, or any other identifier. They are used to define the syntax and structure of the Python language."
      ],
      "metadata": {
        "id": "dHDbnQs9RJSQ"
      }
    },
    {
      "cell_type": "markdown",
      "source": [
        "QUESTION 5- WHAT IS MUTABILITY IN PYTHON?"
      ],
      "metadata": {
        "id": "mEc4uX9ARMvD"
      }
    },
    {
      "cell_type": "markdown",
      "source": [
        "ANSWER 5- mutable sequences are data structures that allow their contents to be modified after creation. This means you can add, remove, or change elements without creating a new object. Common examples of mutable sequences include lists, bytearrays, and custom classes.\n",
        "\n",
        "Key Characteristics of Mutable Sequences\n",
        "\n",
        "Modifiability: You can alter the contents of the sequence in place.\n",
        "\n",
        "Dynamic Size: Mutable sequences can grow or shrink dynamically.\n",
        "\n",
        "Shared References: Changes to a mutable sequence are reflected across all references to it."
      ],
      "metadata": {
        "id": "HSiNHYt4Rxav"
      }
    },
    {
      "cell_type": "markdown",
      "source": [
        "QUESTION 6-Why are lists mutable, but tuples are immutable"
      ],
      "metadata": {
        "id": "NiNfZlnkR2xp"
      }
    },
    {
      "cell_type": "markdown",
      "source": [
        "ANSWER 6-In Python, lists and tuples are both sequence data types, but they differ fundamentally in their mutability. Lists are mutable, meaning their contents can be modified after creation, while tuples are immutable, meaning their contents cannot be changed once defined. This distinction arises from their design and intended use cases. The reason why list is mutable and tuple is not mutable are:\n",
        "\n",
        "1. Performance: Tuples are stored in a single memory block, making them more memory-efficient and faster to iterate over compared to lists, which require additional memory for dynamic resizing.\n",
        "\n",
        "2. Data Integrity: Tuples provide a guarantee that their contents will remain unchanged, which is useful for ensuring data consistency in programs.\n",
        "\n",
        "3. Hashability: Tuples are hashable (if their elements are also hashable), allowing them to be used as keys in dictionaries or elements in sets. Lists, being mutable, cannot be hashed.\n",
        "\n"
      ],
      "metadata": {
        "id": "w3MuigcZSZ_D"
      }
    },
    {
      "cell_type": "markdown",
      "source": [
        "QUESTION7-What is the difference between “==” and “is” operators in Python ?\n"
      ],
      "metadata": {
        "id": "rPpIqcZNTBYw"
      }
    },
    {
      "cell_type": "markdown",
      "source": [
        "ANSWER 7 - In Python, the == and is operators are both used for comparisons, but they serve distinct purposes:\n",
        "1. == Operator (Equality Operator):\n",
        "\n",
        "Pu Compares the values of two objects to check if they are equal.\n",
        " It evaluates whether the data or content of the objects is the same, regardless of whether they are stored in the same memory location.\n",
        "Example:a = [1, 2, 3]\n",
        "b = [1, 2, 3]\n",
        "print(a == b)  # Output: True (values are the same)\n",
        "\n",
        "\n",
        "\n",
        "2. is Operator (Identity Operator):\n",
        "\n",
        " Compares the identity of two objects to check if they refer to the same memory location.\n",
        " It evaluates whether the two objects are actually the same object in memory.\n",
        "Example:a = [1, 2, 3]\n",
        "b = [1, 2, 3]\n",
        "print(a is b)  # Output: False (different memory locations)\n",
        "\n",
        "\n",
        "\n",
        "Key Difference:\n",
        "\n",
        "== checks value equality.\n",
        "is checks reference equality (identity).\n",
        "\n",
        "\n"
      ],
      "metadata": {
        "id": "WjlWc6W9UWrX"
      }
    },
    {
      "cell_type": "markdown",
      "source": [
        "QUESTION 8-What are logical operators in Python ?"
      ],
      "metadata": {
        "id": "j8kmCw86UuPv"
      }
    },
    {
      "cell_type": "markdown",
      "source": [
        "ANSWER 8-Logical operators in Python are used to combine conditional statements and perform logical operations. They return a Boolean value (True or False) based on the conditions provided. Python has three logical operators:\n",
        "\n",
        "1.   Logical AND\n",
        "2.   Logical or\n",
        "3.   Logical Not\n",
        "\n"
      ],
      "metadata": {
        "id": "8jj36TkzVjWw"
      }
    },
    {
      "cell_type": "markdown",
      "source": [
        "QUESTION 9 - What is type casting in Python ?"
      ],
      "metadata": {
        "id": "u64YK_FCWDBv"
      }
    },
    {
      "cell_type": "markdown",
      "source": [
        "ANSWER 9 -Type casting in Python refers to the process of converting one data type into another. This can be done either implicitly (automatically by Python) or explicitly (manually by the programmer). It is often used to ensure compatibility between different data types during operations."
      ],
      "metadata": {
        "id": "fuuHvOrmWp2O"
      }
    },
    {
      "cell_type": "markdown",
      "source": [
        "QUESTION 10- What is the difference between implicit and explicit type casting"
      ],
      "metadata": {
        "id": "oLK-DwMZWugH"
      }
    },
    {
      "cell_type": "markdown",
      "source": [
        "ANSWER 10-Implicit Type Casting\n",
        "\n",
        "Implicit type casting, also known as type coercion, occurs automatically when the compiler converts data from one type to another without explicit instructions from the programmer. This usually happens when a value of one data type is assigned to a variable of another data type, and the target type can safely represent the source value without loss of precision or data.\n",
        "\n",
        "\n",
        "Explicit Type Casting\n",
        "\n",
        "Explicit type casting, also known as type conversion, requires the programmer to manually convert a value from one data type to another. This is done using casting operators or functions provided by the language."
      ],
      "metadata": {
        "id": "5P5xZRKoXD_J"
      }
    },
    {
      "cell_type": "markdown",
      "source": [
        "QUESTION 11-What is the purpose of conditional statements in Python ?"
      ],
      "metadata": {
        "id": "BGwHjvIKXg8T"
      }
    },
    {
      "cell_type": "markdown",
      "source": [
        "ANSWER 11-Conditional statements in Python are used to control the flow of a program by executing specific blocks of code based on certain conditions. They allow programs to make decisions and behave differently depending on the situation.\n",
        "\n",
        "Common conditional statements in Python include:\n",
        "\n",
        "if: Executes a block of code if the condition is true.\n",
        "elif: Adds additional conditions to check if the previous ones are false.\n",
        "else: Executes a block of code if all previous conditions are false."
      ],
      "metadata": {
        "id": "IddMRnODYQGQ"
      }
    },
    {
      "cell_type": "markdown",
      "source": [
        "QUESTION 12- How does the elif statement work ?"
      ],
      "metadata": {
        "id": "QU6mZe4wYgoZ"
      }
    },
    {
      "cell_type": "markdown",
      "source": [
        "ANSWER-12\n",
        "\n",
        "The elif statement in Python allows you to check multiple conditions in a sequence, executing the block of code associated with the first true condition.\n",
        "\n",
        "syntax:\n",
        "\n",
        "if condition1:\n",
        "\n",
        " Execute this block if condition1 is true\n",
        "\n",
        "elif condition2:\n",
        "\n",
        " Execute this block if condition2 is true\n",
        "\n",
        "elif condition3:\n",
        "\n",
        " Execute this block if condition3 is true\n",
        "\n",
        "else:\n",
        "\n",
        " Execute this block if none of the above conditions are true\n",
        "\n",
        " When the program reaches an if statement, it evaluates the condition. If it is true, the corresponding block of code is executed, and the rest of the elif and else blocks are skipped.\n",
        "\n",
        " if first condition is false, the program checks the next elif condition. If that condition is true, its block of code is executed, and the remaining conditions are ignored.\n",
        "\n",
        " If none of the if or elif conditions are true, the code in the else block (if present) will be executed.\n",
        "\n"
      ],
      "metadata": {
        "id": "vNzGS5UcZ2LT"
      }
    },
    {
      "cell_type": "markdown",
      "source": [
        "QUESTION 13- What is the difference between for and while loops?"
      ],
      "metadata": {
        "id": "J-QLaD-kb8J7"
      }
    },
    {
      "cell_type": "markdown",
      "source": [
        "ANSWER 13-For Loop A for loop is used when the number of iterations is known beforehand or when iterating over a sequence like a list, tuple, or range. It automatically handles initialization, condition checking, and updating within its structure. For example:\n",
        "\n",
        " Print numbers from 0 to 4\n",
        "\n",
        "for i in range(5):\n",
        "\n",
        "print(i)\n",
        "\n",
        "This loop iterates over the range object, printing numbers from 0 to 4. It is concise and ideal for iterating over iterable objects.\n",
        "\n",
        "While Loop A while loop is used when the number of iterations is not known in advance and depends on a condition. It continues executing as long as the condition is True. For example:\n",
        "\n",
        " Print numbers from 0 to 4\n",
        "\n",
        "count = 0\n",
        "\n",
        "while count < 5:\n",
        "\n",
        "print(count)\n",
        "\n",
        "count += 1\n",
        "\n",
        "Here, the loop runs until the condition count < 5 becomes False. It requires explicit initialization and updating of variables."
      ],
      "metadata": {
        "id": "4GKOLOI4cS6U"
      }
    },
    {
      "cell_type": "markdown",
      "source": [
        "QUESTION 14- Describe a scenario where a while loop is more suitable than a for loop?"
      ],
      "metadata": {
        "id": "X3gxUND1dhxN"
      }
    },
    {
      "cell_type": "markdown",
      "source": [
        "ANSWER 14-\n",
        "\n",
        "A while loop is particularly useful in scenarios where the number of iterations is not predetermined and depends on a condition being met during runtime. Unlike a for loop, which is ideal for iterating over a fixed range or sequence, a while loop provides flexibility for dynamic conditions.\n",
        "\n",
        "Example Scenario: Waiting for User Input\n",
        "\n",
        "\n",
        " common use case is waiting for user input or a specific event. For instance, you might want to keep prompting the user until they enter a valid response.\n",
        "\n",
        "\n",
        "\n",
        "# Example: Waiting for valid user input\n",
        "\n",
        "user_input = \"\"\n",
        "\n",
        "while user_input.lower() != \"exit\":\n",
        "\n",
        "user_input = input(\"Enter a command (type 'exit' to quit): \")\n",
        "\n",
        "\n",
        "print(f\"You entered: {user_input}\")\n",
        "\n",
        "Here, the loop continues until the user types \"exit\". A for loop would not be appropriate because the number of iterations depends on the user's actions."
      ],
      "metadata": {
        "id": "zNWQqaD1eYKN"
      }
    },
    {
      "cell_type": "markdown",
      "source": [
        "# PRACTICAL QUESTION"
      ],
      "metadata": {
        "id": "SQwZVviHfI2Y"
      }
    },
    {
      "cell_type": "markdown",
      "source": [
        "#QUESTION1 - Write a Python program to print \"Hello, World!"
      ],
      "metadata": {
        "id": "a96OgVBWfR3-"
      }
    },
    {
      "cell_type": "markdown",
      "source": [],
      "metadata": {
        "id": "fVpfuIXgdz1b"
      }
    },
    {
      "cell_type": "code",
      "source": [
        "print(\"Hello,World!\")"
      ],
      "metadata": {
        "colab": {
          "base_uri": "https://localhost:8080/"
        },
        "id": "yNQquKvMfcye",
        "outputId": "af4345d5-ea09-4990-8c92-d2a0b7a16433"
      },
      "execution_count": null,
      "outputs": [
        {
          "output_type": "stream",
          "name": "stdout",
          "text": [
            "Hello,World!\n"
          ]
        }
      ]
    },
    {
      "cell_type": "markdown",
      "source": [
        "#Question 2- Write a Python program that displays your name and age"
      ],
      "metadata": {
        "id": "6xxi2f5Dfr8P"
      }
    },
    {
      "cell_type": "code",
      "source": [
        "age=input(\"enter your age\")\n",
        "name=input(\"enter your name\")\n",
        "print(f\"my name is {name} and my age is {age}\")"
      ],
      "metadata": {
        "colab": {
          "base_uri": "https://localhost:8080/"
        },
        "id": "T_hzqobcf5XH",
        "outputId": "4b6fa979-4328-481b-d90e-01bb6a133c37"
      },
      "execution_count": null,
      "outputs": [
        {
          "output_type": "stream",
          "name": "stdout",
          "text": [
            "enter your age21\n",
            "enter your nameRaj\n",
            "my name is Raj and my age is 21\n"
          ]
        }
      ]
    },
    {
      "cell_type": "markdown",
      "source": [
        "# QUESTION 3- Write code to print all the pre-defined keywords in Python using the keyword library."
      ],
      "metadata": {
        "id": "q1NaA6PPglmK"
      }
    },
    {
      "cell_type": "code",
      "metadata": {
        "colab": {
          "base_uri": "https://localhost:8080/"
        },
        "id": "779ab20f",
        "outputId": "6d7292c7-9436-4b72-f235-facd2b837ffe"
      },
      "source": [
        "import keyword\n",
        "\n",
        "print(keyword.kwlist)"
      ],
      "execution_count": null,
      "outputs": [
        {
          "output_type": "stream",
          "name": "stdout",
          "text": [
            "['False', 'None', 'True', 'and', 'as', 'assert', 'async', 'await', 'break', 'class', 'continue', 'def', 'del', 'elif', 'else', 'except', 'finally', 'for', 'from', 'global', 'if', 'import', 'in', 'is', 'lambda', 'nonlocal', 'not', 'or', 'pass', 'raise', 'return', 'try', 'while', 'with', 'yield']\n"
          ]
        }
      ]
    },
    {
      "cell_type": "markdown",
      "source": [
        "#QUESTION 4- Write a program that checks if a given word is a Python keyword."
      ],
      "metadata": {
        "id": "X-sIbTs8g-q0"
      }
    },
    {
      "cell_type": "code",
      "source": [],
      "metadata": {
        "id": "Jv-IYI3RhLXC"
      },
      "execution_count": null,
      "outputs": []
    },
    {
      "cell_type": "code",
      "metadata": {
        "colab": {
          "base_uri": "https://localhost:8080/"
        },
        "id": "56cbf5b9",
        "outputId": "61d2fe81-b6a0-49f3-d08c-7ef0d25b144f"
      },
      "source": [
        "import keyword\n",
        "\n",
        "word = input(\"Enter the word to check it is a keywpord or not : \")\n",
        "\n",
        "if word in keyword.kwlist:\n",
        "  print(f\"{word} is a Python keyword.\")\n",
        "else:\n",
        "  print(f\"{word} is not a Python keyword.\")"
      ],
      "execution_count": null,
      "outputs": [
        {
          "output_type": "stream",
          "name": "stdout",
          "text": [
            "Enter the word to check it is a keywpord or not : def\n",
            "def is a Python keyword.\n"
          ]
        }
      ]
    },
    {
      "cell_type": "markdown",
      "source": [
        "#QUESTION 5 -  Create a list and tuple in Python, and demonstrate how attempting to change an element works differently for each."
      ],
      "metadata": {
        "id": "krg-P2Ech-ON"
      }
    },
    {
      "cell_type": "code",
      "source": [
        "list=[\"ram\",\"shyam\",\"rohit\",\"ravi\"]\n",
        "tuple=(\"ramu\",\"shyamu\",\"raj\",\"jai\")\n",
        "list[0]=(\"rajesh\")\n",
        "print(list)\n",
        "tuple[0]=[\"rajesh\"]\n",
        "print(tuple)"
      ],
      "metadata": {
        "colab": {
          "base_uri": "https://localhost:8080/",
          "height": 219
        },
        "id": "8kRg4gZDiOFr",
        "outputId": "957acee2-45e1-4471-ee89-3bf27d84a9f2"
      },
      "execution_count": null,
      "outputs": [
        {
          "output_type": "stream",
          "name": "stdout",
          "text": [
            "['rajesh', 'shyam', 'rohit', 'ravi']\n"
          ]
        },
        {
          "output_type": "error",
          "ename": "TypeError",
          "evalue": "'tuple' object does not support item assignment",
          "traceback": [
            "\u001b[0;31m---------------------------------------------------------------------------\u001b[0m",
            "\u001b[0;31mTypeError\u001b[0m                                 Traceback (most recent call last)",
            "\u001b[0;32m/tmp/ipython-input-1585909645.py\u001b[0m in \u001b[0;36m<cell line: 0>\u001b[0;34m()\u001b[0m\n\u001b[1;32m      3\u001b[0m \u001b[0mlist\u001b[0m\u001b[0;34m[\u001b[0m\u001b[0;36m0\u001b[0m\u001b[0;34m]\u001b[0m\u001b[0;34m=\u001b[0m\u001b[0;34m(\u001b[0m\u001b[0;34m\"rajesh\"\u001b[0m\u001b[0;34m)\u001b[0m\u001b[0;34m\u001b[0m\u001b[0;34m\u001b[0m\u001b[0m\n\u001b[1;32m      4\u001b[0m \u001b[0mprint\u001b[0m\u001b[0;34m(\u001b[0m\u001b[0mlist\u001b[0m\u001b[0;34m)\u001b[0m\u001b[0;34m\u001b[0m\u001b[0;34m\u001b[0m\u001b[0m\n\u001b[0;32m----> 5\u001b[0;31m \u001b[0mtuple\u001b[0m\u001b[0;34m[\u001b[0m\u001b[0;36m0\u001b[0m\u001b[0;34m]\u001b[0m\u001b[0;34m=\u001b[0m\u001b[0;34m[\u001b[0m\u001b[0;34m\"rajesh\"\u001b[0m\u001b[0;34m]\u001b[0m\u001b[0;34m\u001b[0m\u001b[0;34m\u001b[0m\u001b[0m\n\u001b[0m\u001b[1;32m      6\u001b[0m \u001b[0mprint\u001b[0m\u001b[0;34m(\u001b[0m\u001b[0mtuple\u001b[0m\u001b[0;34m)\u001b[0m\u001b[0;34m\u001b[0m\u001b[0;34m\u001b[0m\u001b[0m\n",
            "\u001b[0;31mTypeError\u001b[0m: 'tuple' object does not support item assignment"
          ]
        }
      ]
    },
    {
      "cell_type": "markdown",
      "source": [
        "# QUESTION 6-  Write a function to demonstrate the behavior of mutable and immutable arguments"
      ],
      "metadata": {
        "id": "EbfgUOHDkJDN"
      }
    },
    {
      "cell_type": "code",
      "source": [
        "list=[\"raj\",\"shyam\",\"dhani\",\"ravi\"]\n",
        "tuple=(1,2,3,4,5)\n",
        "list[0]=(\"raam\")\n",
        "print(list)\n",
        "\n",
        "tuple[0]= [5]\n",
        "\n",
        "print(tuple)\n",
        "\n"
      ],
      "metadata": {
        "colab": {
          "base_uri": "https://localhost:8080/",
          "height": 237
        },
        "id": "k5ly8j1hnNOy",
        "outputId": "4c670551-54d9-4191-bcc1-d498572b4732"
      },
      "execution_count": null,
      "outputs": [
        {
          "output_type": "stream",
          "name": "stdout",
          "text": [
            "['raam', 'shyam', 'dhani', 'ravi']\n"
          ]
        },
        {
          "output_type": "error",
          "ename": "TypeError",
          "evalue": "'tuple' object does not support item assignment",
          "traceback": [
            "\u001b[0;31m---------------------------------------------------------------------------\u001b[0m",
            "\u001b[0;31mTypeError\u001b[0m                                 Traceback (most recent call last)",
            "\u001b[0;32m/tmp/ipython-input-4119314357.py\u001b[0m in \u001b[0;36m<cell line: 0>\u001b[0;34m()\u001b[0m\n\u001b[1;32m      4\u001b[0m \u001b[0mprint\u001b[0m\u001b[0;34m(\u001b[0m\u001b[0mlist\u001b[0m\u001b[0;34m)\u001b[0m\u001b[0;34m\u001b[0m\u001b[0;34m\u001b[0m\u001b[0m\n\u001b[1;32m      5\u001b[0m \u001b[0;34m\u001b[0m\u001b[0m\n\u001b[0;32m----> 6\u001b[0;31m \u001b[0mtuple\u001b[0m\u001b[0;34m[\u001b[0m\u001b[0;36m0\u001b[0m\u001b[0;34m]\u001b[0m\u001b[0;34m=\u001b[0m \u001b[0;34m[\u001b[0m\u001b[0;36m5\u001b[0m\u001b[0;34m]\u001b[0m\u001b[0;34m\u001b[0m\u001b[0;34m\u001b[0m\u001b[0m\n\u001b[0m\u001b[1;32m      7\u001b[0m \u001b[0;34m\u001b[0m\u001b[0m\n\u001b[1;32m      8\u001b[0m \u001b[0mprint\u001b[0m\u001b[0;34m(\u001b[0m\u001b[0mtuple\u001b[0m\u001b[0;34m)\u001b[0m\u001b[0;34m\u001b[0m\u001b[0;34m\u001b[0m\u001b[0m\n",
            "\u001b[0;31mTypeError\u001b[0m: 'tuple' object does not support item assignment"
          ]
        }
      ]
    },
    {
      "cell_type": "markdown",
      "source": [
        "# QUESTION 7-  Write a program that performs basic arithmetic operations on two user-input numbers."
      ],
      "metadata": {
        "id": "2VPLwrCfqlNn"
      }
    },
    {
      "cell_type": "code",
      "metadata": {
        "id": "9f5aa911"
      },
      "source": [
        "\n"
      ],
      "execution_count": null,
      "outputs": []
    },
    {
      "cell_type": "code",
      "source": [
        "num1=int(input(\"enter the first number\"))\n",
        "num2=int(input(\"enter the second number\"))\n",
        "addition=int(num1+num2)\n",
        "sub=int(num1-num2)\n",
        "multiply=int(num1*num2)\n",
        "division=int(num1/num2)\n",
        "print(f\"addition is {addition}\")\n",
        "print(f\"sub is {sub}\")\n",
        "print(f\"multiplication is {multiply}\")\n",
        "print(f\"division is {division}\")\n"
      ],
      "metadata": {
        "colab": {
          "base_uri": "https://localhost:8080/"
        },
        "id": "LyewXfonq2Hp",
        "outputId": "7c9cc028-4107-4009-c4fa-8dfa21db41ad"
      },
      "execution_count": null,
      "outputs": [
        {
          "output_type": "stream",
          "name": "stdout",
          "text": [
            "enter the first number20\n",
            "enter the second number10\n",
            "addition is 30\n",
            "sub is 10\n",
            "multiplication is 200\n",
            "division is 2\n"
          ]
        }
      ]
    },
    {
      "cell_type": "code",
      "source": [],
      "metadata": {
        "id": "UyJmjct7v3yA"
      },
      "execution_count": null,
      "outputs": []
    },
    {
      "cell_type": "markdown",
      "source": [
        "# QUESTION 8- Write a program to demonstrate the use of logical operators."
      ],
      "metadata": {
        "id": "U20Sm_F0wDJm"
      }
    },
    {
      "cell_type": "code",
      "source": [
        "# AND\n",
        "num1 = 10\n",
        "num2 = 2\n",
        "\n",
        "if num1 > num2 and num1 / num2 > 1: # Both  must be True\n",
        "  print(f\"{num1} is greater than {num2} AND {num1} divided by {num2} is greater than 1.\")\n",
        "else:\n",
        "  print(f\"At least one condition for AND is False.\")\n",
        "\n",
        "#  OR\n",
        "\n",
        "if num1 < num2 or num1 + num2 > 10: #  one condition must be True\n",
        "  print(f\"{num1} is less than {num2} OR {num1} plus {num2} is greater than 10.\")\n",
        "else:\n",
        "  print(f\"Both conditions for OR are False.\")\n",
        "\n",
        "#  NOT\n",
        "\n",
        "is_positive = num1 > 0\n",
        "print(f\"Is {num1} positive? {is_positive}\")\n",
        "print(f\"Is {num1} NOT positive? {not is_positive}\")\n",
        "\n",
        "is_equal_to_5 = num1 == 5\n",
        "print(f\"Is {num1} equal to 5? {is_equal_to_5}\")\n",
        "print(f\"Is {num1} NOT equal to 5? {not is_equal_to_5}\") # Reverses the boolean value"
      ],
      "metadata": {
        "colab": {
          "base_uri": "https://localhost:8080/"
        },
        "id": "OIadxLz4wGFm",
        "outputId": "d154726e-a4e6-4c83-bec8-ffc9bffa5499"
      },
      "execution_count": null,
      "outputs": [
        {
          "output_type": "stream",
          "name": "stdout",
          "text": [
            "10 is greater than 2 AND 10 divided by 2 is greater than 1.\n",
            "10 is less than 2 OR 10 plus 2 is greater than 10.\n",
            "Is 10 positive? True\n",
            "Is 10 NOT positive? False\n",
            "Is 10 equal to 5? False\n",
            "Is 10 NOT equal to 5? True\n"
          ]
        }
      ]
    },
    {
      "cell_type": "markdown",
      "source": [
        "# Question 9 - Write a Python program to convert user input from string to integer, float, and boolean types\n"
      ],
      "metadata": {
        "id": "n9D0lQbI0oFR"
      }
    },
    {
      "cell_type": "code",
      "source": [
        "input_str = input(\"Enter a VALUE: \")\n",
        "input_int=int(input_str)\n",
        "print(f\"Converted to Integer: {input_int} (Type: {type(input_int)})\")\n",
        "input_float = float(input_str)\n",
        "print(f\"Converted to Float: {input_float} (Type: {type(input_float)})\")\n",
        "input_bool = bool(input_str)\n",
        "print(f\"Converted to Boolean: {input_bool} (Type: {type(input_bool)})\")\n",
        "\n"
      ],
      "metadata": {
        "colab": {
          "base_uri": "https://localhost:8080/"
        },
        "id": "KiZrsogg02Zy",
        "outputId": "c0cf02d1-a244-4c86-cb5c-3e244d2e2c0e"
      },
      "execution_count": null,
      "outputs": [
        {
          "output_type": "stream",
          "name": "stdout",
          "text": [
            "Enter a VALUE: 10\n",
            "Converted to Integer: 10 (Type: <class 'int'>)\n",
            "Converted to Float: 10.0 (Type: <class 'float'>)\n",
            "Converted to Boolean: True (Type: <class 'bool'>)\n"
          ]
        }
      ]
    },
    {
      "cell_type": "markdown",
      "source": [
        "# QUESTION 10- Write code to demonstrate type casting with list elements."
      ],
      "metadata": {
        "id": "WexqNS9n3YR-"
      }
    },
    {
      "cell_type": "code",
      "source": [
        "my_list = [\"123\", \"123.5\", \"True\", \"hello\", 10, 91.6]\n",
        "\n",
        "print(f\"list: {my_list}\")\n",
        "print(\"Types of  elements:\")\n",
        "for item in my_list:\n",
        "    print(f\" {item}: {type(item)}\")\n",
        "\n",
        "print(\"\\nDemonstrating type casting with list elements:\")"
      ],
      "metadata": {
        "colab": {
          "base_uri": "https://localhost:8080/"
        },
        "id": "cQhMnDLt4SG6",
        "outputId": "645f9a1c-9e4f-498c-f28d-41513810520d"
      },
      "execution_count": null,
      "outputs": [
        {
          "output_type": "stream",
          "name": "stdout",
          "text": [
            "list: ['123', '123.5', 'True', 'hello', 10, 91.6]\n",
            "Types of  elements:\n",
            " 123: <class 'str'>\n",
            " 123.5: <class 'str'>\n",
            " True: <class 'str'>\n",
            " hello: <class 'str'>\n",
            " 10: <class 'int'>\n",
            " 91.6: <class 'float'>\n",
            "\n",
            "Demonstrating type casting with list elements:\n"
          ]
        }
      ]
    },
    {
      "cell_type": "markdown",
      "source": [
        "# QUESTION 11- Write a program that checks if a number is positive, negative, or zero."
      ],
      "metadata": {
        "id": "fp_jBUk75zsB"
      }
    },
    {
      "cell_type": "code",
      "source": [
        "num1=int(input(\"enter the number\"))\n",
        "if num1>0:\n",
        "  print(f\"{num1} is positive\")\n",
        "elif num1<0:\n",
        "  print(f\"{num1} is negative\")\n",
        "else:\n",
        "  print(f\"{num1} is zero\")"
      ],
      "metadata": {
        "colab": {
          "base_uri": "https://localhost:8080/"
        },
        "id": "3Vz5Sh_Q6AYa",
        "outputId": "82d903ff-5ab4-4c6a-bf2d-748eebe6721f"
      },
      "execution_count": null,
      "outputs": [
        {
          "output_type": "stream",
          "name": "stdout",
          "text": [
            "enter the number2\n",
            "2 is positive\n"
          ]
        }
      ]
    },
    {
      "cell_type": "markdown",
      "source": [
        "# QUESTION 12-  Write a for loop to print numbers from 1 to 10."
      ],
      "metadata": {
        "id": "jXKa-XjO6VPR"
      }
    },
    {
      "cell_type": "code",
      "source": [
        "\n",
        "for i in range(1, 11):\n",
        "  print(i)"
      ],
      "metadata": {
        "colab": {
          "base_uri": "https://localhost:8080/"
        },
        "id": "oCdpUJvM6gl1",
        "outputId": "731a7c2e-cefb-41d9-dc3b-44368d645600"
      },
      "execution_count": null,
      "outputs": [
        {
          "output_type": "stream",
          "name": "stdout",
          "text": [
            "1\n",
            "2\n",
            "3\n",
            "4\n",
            "5\n",
            "6\n",
            "7\n",
            "8\n",
            "9\n",
            "10\n"
          ]
        }
      ]
    },
    {
      "cell_type": "markdown",
      "source": [
        "# QUESTION 13- . Write a Python program to find the sum of all even numbers between 1 and 50"
      ],
      "metadata": {
        "id": "kj8dkc0u7kZa"
      }
    },
    {
      "cell_type": "code",
      "source": [
        "for i in range(2,51,2):\n",
        "  print(i)"
      ],
      "metadata": {
        "colab": {
          "base_uri": "https://localhost:8080/"
        },
        "id": "aWaBU6sj7tlc",
        "outputId": "4892dd9b-f568-4aee-b015-34cede3e83de"
      },
      "execution_count": null,
      "outputs": [
        {
          "output_type": "stream",
          "name": "stdout",
          "text": [
            "2\n",
            "4\n",
            "6\n",
            "8\n",
            "10\n",
            "12\n",
            "14\n",
            "16\n",
            "18\n",
            "20\n",
            "22\n",
            "24\n",
            "26\n",
            "28\n",
            "30\n",
            "32\n",
            "34\n",
            "36\n",
            "38\n",
            "40\n",
            "42\n",
            "44\n",
            "46\n",
            "48\n",
            "50\n"
          ]
        }
      ]
    },
    {
      "cell_type": "markdown",
      "source": [
        "#QUESTION 14. Write a program to reverse a string using a while loop."
      ],
      "metadata": {
        "id": "uYnUezT2-zri"
      }
    },
    {
      "cell_type": "code",
      "source": [],
      "metadata": {
        "id": "rxwbb1db-6wH"
      },
      "execution_count": null,
      "outputs": []
    },
    {
      "cell_type": "code",
      "metadata": {
        "colab": {
          "base_uri": "https://localhost:8080/"
        },
        "id": "1c70e032",
        "outputId": "0dfa64e0-d7ff-4a87-ccc1-3c5e06085e50"
      },
      "source": [
        "\n",
        "input_string = input(\"Enter a string to reverse: \")\n",
        "reversed_string = \"\"\n",
        "index = len(input_string) - 1\n",
        "while index >= 0:\n",
        "  reversed_string += input_string[index]\n",
        "  index -= 1\n",
        "print(\"Reversed string:\", reversed_string)"
      ],
      "execution_count": null,
      "outputs": [
        {
          "output_type": "stream",
          "name": "stdout",
          "text": [
            "Enter a string to reverse: raj\n",
            "Reversed string: jar\n"
          ]
        }
      ]
    },
    {
      "cell_type": "markdown",
      "source": [
        "# QUESTION15. Write a Python program to calculate the factorial of a number provided by the user using a while loop."
      ],
      "metadata": {
        "id": "7UntOyeYDNTN"
      }
    },
    {
      "cell_type": "code",
      "source": [
        "input_number = input(\"enter a number to calculate its factorial\")\n",
        "number = int(input_number)\n",
        "factorial = 1\n",
        "current = 1\n",
        "while current <= number:\n",
        "  factorial *= current\n",
        "  current += 1\n",
        "print(f\"The factorial of {number} is {factorial}\")\n"
      ],
      "metadata": {
        "colab": {
          "base_uri": "https://localhost:8080/"
        },
        "id": "qsuYDjQoEn_s",
        "outputId": "b5d03a40-e4e0-4925-c18c-2cc843c04def"
      },
      "execution_count": null,
      "outputs": [
        {
          "output_type": "stream",
          "name": "stdout",
          "text": [
            "enter a number to calculate its factorial5\n",
            "The factorial of 5 is 120\n"
          ]
        }
      ]
    }
  ]
}